{
  "nbformat": 4,
  "nbformat_minor": 0,
  "metadata": {
    "colab": {
      "provenance": [],
      "collapsed_sections": [],
      "authorship_tag": "ABX9TyPECRR9tMerMqygwvGpEsKy",
      "include_colab_link": true
    },
    "kernelspec": {
      "name": "python3",
      "display_name": "Python 3"
    },
    "language_info": {
      "name": "python"
    },
    "accelerator": "GPU"
  },
  "cells": [
    {
      "cell_type": "markdown",
      "metadata": {
        "id": "view-in-github",
        "colab_type": "text"
      },
      "source": [
        "<a href=\"https://colab.research.google.com/github/joshuansu0897/NN_Examples/blob/main/clasificacion_binaria.ipynb\" target=\"_parent\"><img src=\"https://colab.research.google.com/assets/colab-badge.svg\" alt=\"Open In Colab\"/></a>"
      ]
    },
    {
      "cell_type": "code",
      "execution_count": 23,
      "metadata": {
        "id": "oD0NQ_-5VCX6"
      },
      "outputs": [],
      "source": [
        "import numpy as np\n",
        "from keras.datasets import imdb\n",
        "from keras import models, layers, optimizers"
      ]
    },
    {
      "cell_type": "markdown",
      "source": [
        "**Descargamos los datos**"
      ],
      "metadata": {
        "id": "mDVkej3mVZVP"
      }
    },
    {
      "cell_type": "code",
      "source": [
        "(train_data, train_labels), (test_data, test_labels) = imdb.load_data(num_words=10_000)"
      ],
      "metadata": {
        "id": "PF7PLErnVXXO"
      },
      "execution_count": 3,
      "outputs": []
    },
    {
      "cell_type": "code",
      "source": [
        "train_data[0]"
      ],
      "metadata": {
        "id": "ghRaQu1uVx79"
      },
      "execution_count": null,
      "outputs": []
    },
    {
      "cell_type": "code",
      "source": [
        "train_labels[0]"
      ],
      "metadata": {
        "colab": {
          "base_uri": "https://localhost:8080/"
        },
        "id": "_SdU6gYNV1DI",
        "outputId": "869460b9-2324-40c0-cdf1-4b2f40278d02"
      },
      "execution_count": 6,
      "outputs": [
        {
          "output_type": "execute_result",
          "data": {
            "text/plain": [
              "1"
            ]
          },
          "metadata": {},
          "execution_count": 6
        }
      ]
    },
    {
      "cell_type": "markdown",
      "source": [
        "**Convertir los numeros en las palabras**"
      ],
      "metadata": {
        "id": "PteT6B5rZBZo"
      }
    },
    {
      "cell_type": "code",
      "source": [
        "word_index = imdb.get_word_index()\n",
        "word_index"
      ],
      "metadata": {
        "id": "R0exfE4OWHAp"
      },
      "execution_count": null,
      "outputs": []
    },
    {
      "cell_type": "code",
      "source": [
        "# vamos a cambiar de lugar las cosas, ahora el numero sera el id en vez de la palabra\n",
        "word_index = dict([(value, key) for (key, value) in word_index.items()])"
      ],
      "metadata": {
        "id": "qy0TyAxAWTeQ"
      },
      "execution_count": 12,
      "outputs": []
    },
    {
      "cell_type": "code",
      "source": [
        "word_index"
      ],
      "metadata": {
        "id": "KopiIdZoWYAU"
      },
      "execution_count": null,
      "outputs": []
    },
    {
      "cell_type": "markdown",
      "source": [
        "**Verificamos que funcione el diccionario de palabras**"
      ],
      "metadata": {
        "id": "nJ-GSWNuZHNR"
      }
    },
    {
      "cell_type": "code",
      "source": [
        "for _ in train_data[0]:\n",
        "  print(word_index.get(_ - 3))"
      ],
      "metadata": {
        "id": "HMNfCGrtW-Jq"
      },
      "execution_count": null,
      "outputs": []
    },
    {
      "cell_type": "markdown",
      "source": [
        "**Creamos el metodo de vectorizacion**"
      ],
      "metadata": {
        "id": "3BackndxZZSF"
      }
    },
    {
      "cell_type": "code",
      "source": [
        "def vectorizar(sequences, dim=10_000):\n",
        "  results = np.zeros((len(sequences), dim))\n",
        "  for i, sequences in enumerate(sequences):\n",
        "    results[i,sequences] = 1\n",
        "  return results"
      ],
      "metadata": {
        "id": "M2lVjzNBXgN_"
      },
      "execution_count": 18,
      "outputs": []
    },
    {
      "cell_type": "markdown",
      "source": [
        "**Vamos a crear nuestros datos de entrenamiento**"
      ],
      "metadata": {
        "id": "9kAL-GQeYKha"
      }
    },
    {
      "cell_type": "code",
      "source": [
        "x_train = vectorizar(train_data)\n",
        "x_test = vectorizar(test_data)"
      ],
      "metadata": {
        "id": "fhZ_-rG9YNrR"
      },
      "execution_count": 19,
      "outputs": []
    },
    {
      "cell_type": "code",
      "source": [
        "y_train = np.asarray(train_labels).astype('float32')\n",
        "y_test = np.asarray(test_labels).astype('float32')"
      ],
      "metadata": {
        "id": "da_t7ygpYfRO"
      },
      "execution_count": 21,
      "outputs": []
    },
    {
      "cell_type": "markdown",
      "source": [
        "**Creamos los datos de validacion**"
      ],
      "metadata": {
        "id": "DIiv2Djebg9p"
      }
    },
    {
      "cell_type": "code",
      "source": [
        "x_val = x_train[:10_000]\n",
        "partial_x_train = x_train[10_000:]\n",
        "\n",
        "y_val = y_train[:10_000]\n",
        "partial_y_train = y_train[10_000:]"
      ],
      "metadata": {
        "id": "-BkstyBRbJ7S"
      },
      "execution_count": 26,
      "outputs": []
    },
    {
      "cell_type": "markdown",
      "source": [
        "**Sigue crear nuestra estructura o modelo**"
      ],
      "metadata": {
        "id": "tCBOp5rrY11_"
      }
    },
    {
      "cell_type": "code",
      "source": [
        "model = models.Sequential()\n",
        "model.add(layers.Dense(16, activation='relu', input_shape=(10_000,)))\n",
        "model.add(layers.Dense(16, activation='relu'))\n",
        "model.add(layers.Dense(1, activation='sigmoid'))"
      ],
      "metadata": {
        "id": "GUBOfgP1Y49a"
      },
      "execution_count": 24,
      "outputs": []
    },
    {
      "cell_type": "code",
      "source": [
        "model.compile(\n",
        "    optimizer='rmsprop',\n",
        "    loss='binary_crossentropy',\n",
        "    metrics='accuracy'\n",
        ")"
      ],
      "metadata": {
        "id": "5ktxmWsWar5k"
      },
      "execution_count": 25,
      "outputs": []
    },
    {
      "cell_type": "markdown",
      "source": [
        "**Sigue entrenar a la red**"
      ],
      "metadata": {
        "id": "JPwqPgyBbDjn"
      }
    },
    {
      "cell_type": "code",
      "source": [
        "# esto es usando los datos que separamos arriba, los x_val y y_val\n",
        "history = model.fit(\n",
        "    partial_x_train,\n",
        "    partial_y_train,\n",
        "    epochs=4,\n",
        "    batch_size=512,\n",
        "    validation_data=(x_val, y_val)\n",
        ")\n",
        "\n",
        "# esto es sin la necesidad de separar los datos, es mas rapido\n",
        "# history = model.fit(\n",
        "#     partial_x_train,\n",
        "#     partial_y_train,\n",
        "#     epochs=4,\n",
        "#     batch_size=512,\n",
        "#     validation_split=0.3 # el 30 porciento se usa para validar\n",
        "# )"
      ],
      "metadata": {
        "colab": {
          "base_uri": "https://localhost:8080/"
        },
        "id": "BFtfDQiubpoc",
        "outputId": "ba8f0ad5-9086-45f6-9a38-bab3befc433a"
      },
      "execution_count": 27,
      "outputs": [
        {
          "output_type": "stream",
          "name": "stdout",
          "text": [
            "Epoch 1/4\n",
            "30/30 [==============================] - 4s 43ms/step - loss: 0.5273 - accuracy: 0.7867 - val_loss: 0.4060 - val_accuracy: 0.8684\n",
            "Epoch 2/4\n",
            "30/30 [==============================] - 1s 22ms/step - loss: 0.3286 - accuracy: 0.8995 - val_loss: 0.3201 - val_accuracy: 0.8818\n",
            "Epoch 3/4\n",
            "30/30 [==============================] - 1s 21ms/step - loss: 0.2420 - accuracy: 0.9249 - val_loss: 0.2894 - val_accuracy: 0.8863\n",
            "Epoch 4/4\n",
            "30/30 [==============================] - 1s 21ms/step - loss: 0.1903 - accuracy: 0.9391 - val_loss: 0.2917 - val_accuracy: 0.8802\n"
          ]
        }
      ]
    },
    {
      "cell_type": "markdown",
      "source": [
        "**Visualizamos el resultado de la red**"
      ],
      "metadata": {
        "id": "5m91Kr-mcnaH"
      }
    },
    {
      "cell_type": "code",
      "source": [
        "import matplotlib.pyplot as plt\n",
        "\n",
        "history_dict = history.history\n",
        "loss_values = history_dict['loss']\n",
        "val_loss_values = history_dict['val_loss']\n",
        "\n",
        "epoch = range(1, len(loss_values) + 1)\n",
        "plt.plot(epoch, loss_values, 'o', label = 'training')\n",
        "plt.plot(epoch, val_loss_values, '--', label = 'validation')\n",
        "plt.legend()\n",
        "plt.show()"
      ],
      "metadata": {
        "colab": {
          "base_uri": "https://localhost:8080/",
          "height": 265
        },
        "id": "Zq7MIfgHcnGz",
        "outputId": "90fd0528-641c-4914-ec84-c44d807a1b78"
      },
      "execution_count": 31,
      "outputs": [
        {
          "output_type": "display_data",
          "data": {
            "text/plain": [
              "<Figure size 432x288 with 1 Axes>"
            ],
            "image/png": "[encoded data removed]"
          },
          "metadata": {
            "needs_background": "light"
          }
        }
      ]
    },
    {
      "cell_type": "markdown",
      "source": [
        "**Se estanco en la validacion, eso significa que tenemos** *Overfitting*"
      ],
      "metadata": {
        "id": "2VuH-tmmduIo"
      }
    },
    {
      "cell_type": "code",
      "source": [
        "model.evaluate(x_test, y_test)"
      ],
      "metadata": {
        "colab": {
          "base_uri": "https://localhost:8080/"
        },
        "id": "hMm6EkR0eC74",
        "outputId": "8c5d89a9-42e9-4174-fef7-e9f76635c5fc"
      },
      "execution_count": 32,
      "outputs": [
        {
          "output_type": "stream",
          "name": "stdout",
          "text": [
            "782/782 [==============================] - 2s 3ms/step - loss: 0.3055 - accuracy: 0.8746\n"
          ]
        },
        {
          "output_type": "execute_result",
          "data": {
            "text/plain": [
              "[0.30549877882003784, 0.8746399879455566]"
            ]
          },
          "metadata": {},
          "execution_count": 32
        }
      ]
    }
  ]
}