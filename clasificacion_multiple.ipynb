{
  "nbformat": 4,
  "nbformat_minor": 0,
  "metadata": {
    "colab": {
      "provenance": [],
      "authorship_tag": "ABX9TyO1SuA9eBVF6KpOCG3Jom7n",
      "include_colab_link": true
    },
    "kernelspec": {
      "name": "python3",
      "display_name": "Python 3"
    },
    "language_info": {
      "name": "python"
    },
    "accelerator": "GPU"
  },
  "cells": [
    {
      "cell_type": "markdown",
      "metadata": {
        "id": "view-in-github",
        "colab_type": "text"
      },
      "source": [
        "<a href=\"https://colab.research.google.com/github/joshuansu0897/NN_Examples/blob/main/clasificacion_multiple.ipynb\" target=\"_parent\"><img src=\"https://colab.research.google.com/assets/colab-badge.svg\" alt=\"Open In Colab\"/></a>"
      ]
    },
    {
      "cell_type": "code",
      "execution_count": 1,
      "metadata": {
        "id": "KuQOMug4Qxu3"
      },
      "outputs": [],
      "source": [
        "import numpy as np\n",
        "from keras import layers, models\n",
        "from keras.datasets import reuters"
      ]
    },
    {
      "cell_type": "markdown",
      "source": [
        "**Descargamos el data para entrenar**"
      ],
      "metadata": {
        "id": "1UJ6qXK7RoGK"
      }
    },
    {
      "cell_type": "code",
      "source": [
        "(train_data, train_labels), (test_data, test_labels) = reuters.load_data(num_words=10_000)"
      ],
      "metadata": {
        "colab": {
          "base_uri": "https://localhost:8080/"
        },
        "id": "PQME4aWuRXpK",
        "outputId": "e4b845cd-5d5e-46cb-e484-705539de415b"
      },
      "execution_count": 2,
      "outputs": [
        {
          "output_type": "stream",
          "name": "stdout",
          "text": [
            "Downloading data from https://storage.googleapis.com/tensorflow/tf-keras-datasets/reuters.npz\n",
            "2110848/2110848 [==============================] - 0s 0us/step\n"
          ]
        }
      ]
    },
    {
      "cell_type": "code",
      "source": [
        "word_index = reuters.get_word_index()"
      ],
      "metadata": {
        "colab": {
          "base_uri": "https://localhost:8080/"
        },
        "id": "251za0eRRnhV",
        "outputId": "c92d28e8-61b6-40a1-bd3e-9b4bf00a5f49"
      },
      "execution_count": 3,
      "outputs": [
        {
          "output_type": "stream",
          "name": "stdout",
          "text": [
            "Downloading data from https://storage.googleapis.com/tensorflow/tf-keras-datasets/reuters_word_index.json\n",
            "550378/550378 [==============================] - 0s 0us/step\n"
          ]
        }
      ]
    },
    {
      "cell_type": "code",
      "source": [
        "word_index = dict([(value, key) for (key, value) in word_index.items()])"
      ],
      "metadata": {
        "id": "082q4siOV9qO"
      },
      "execution_count": 4,
      "outputs": []
    },
    {
      "cell_type": "code",
      "source": [
        "def vectorizar(sequences, dim=10_000):\n",
        "  results = np.zeros((len(sequences), dim))\n",
        "  for i, sequences in enumerate(sequences):\n",
        "    results[i,sequences] = 1\n",
        "  return results"
      ],
      "metadata": {
        "id": "GSdfw4COWUM1"
      },
      "execution_count": 5,
      "outputs": []
    },
    {
      "cell_type": "markdown",
      "source": [
        "**Convertimos el data**"
      ],
      "metadata": {
        "id": "oNhZD9rHXCa4"
      }
    },
    {
      "cell_type": "code",
      "source": [
        "x_train = vectorizar(train_data)\n",
        "x_test = vectorizar(test_data)"
      ],
      "metadata": {
        "id": "SsVpXYvwWapX"
      },
      "execution_count": 6,
      "outputs": []
    },
    {
      "cell_type": "code",
      "source": [
        "from keras.utils import to_categorical"
      ],
      "metadata": {
        "id": "DzlO60OjWbZl"
      },
      "execution_count": 7,
      "outputs": []
    },
    {
      "cell_type": "code",
      "source": [
        "y_train = to_categorical(train_labels)\n",
        "y_test = to_categorical(test_labels)"
      ],
      "metadata": {
        "id": "MdYwEMoJWDjN"
      },
      "execution_count": 8,
      "outputs": []
    },
    {
      "cell_type": "markdown",
      "source": [
        "**Creamos nuestro modelo**"
      ],
      "metadata": {
        "id": "63QRB4DBXHwN"
      }
    },
    {
      "cell_type": "code",
      "source": [
        "model = models.Sequential()\n",
        "model.add(layers.Dense(64, activation='relu', input_shape=(10_000,)))\n",
        "model.add(layers.Dense(64, activation='relu'))\n",
        "model.add(layers.Dense(46, activation='softmax'))\n",
        "\n",
        "model.compile(\n",
        "    optimizer='rmsprop',\n",
        "    loss='categorical_crossentropy',\n",
        "    metrics=[\n",
        "        'accuracy'\n",
        "    ]\n",
        ")"
      ],
      "metadata": {
        "id": "CGjDi11BW8Xu"
      },
      "execution_count": 20,
      "outputs": []
    },
    {
      "cell_type": "markdown",
      "source": [
        "**Creamos los datos de validacion**"
      ],
      "metadata": {
        "id": "bGspi7zCYiGV"
      }
    },
    {
      "cell_type": "code",
      "source": [
        "x_val = x_train[:1000]\n",
        "partial_x_train = x_train[1000:]\n",
        "\n",
        "y_val = y_train[:1000]\n",
        "partial_y_train = y_train[1000:]"
      ],
      "metadata": {
        "id": "XosJigc7YW18"
      },
      "execution_count": 21,
      "outputs": []
    },
    {
      "cell_type": "code",
      "source": [
        "history = model.fit(\n",
        "    partial_x_train,\n",
        "    partial_y_train,\n",
        "    epochs=9,\n",
        "    batch_size=512,\n",
        "    validation_data=(x_val, y_val)\n",
        ")"
      ],
      "metadata": {
        "colab": {
          "base_uri": "https://localhost:8080/"
        },
        "id": "bYBviIX0YjjS",
        "outputId": "5df48c2c-12af-42f4-b3fa-85d5f8a8ea8d"
      },
      "execution_count": 22,
      "outputs": [
        {
          "output_type": "stream",
          "name": "stdout",
          "text": [
            "Epoch 1/9\n",
            "16/16 [==============================] - 1s 28ms/step - loss: 2.6432 - accuracy: 0.4944 - val_loss: 1.7360 - val_accuracy: 0.6560\n",
            "Epoch 2/9\n",
            "16/16 [==============================] - 0s 16ms/step - loss: 1.4002 - accuracy: 0.7161 - val_loss: 1.2824 - val_accuracy: 0.7160\n",
            "Epoch 3/9\n",
            "16/16 [==============================] - 0s 17ms/step - loss: 1.0322 - accuracy: 0.7756 - val_loss: 1.1557 - val_accuracy: 0.7410\n",
            "Epoch 4/9\n",
            "16/16 [==============================] - 0s 15ms/step - loss: 0.8249 - accuracy: 0.8211 - val_loss: 1.0302 - val_accuracy: 0.7780\n",
            "Epoch 5/9\n",
            "16/16 [==============================] - 0s 16ms/step - loss: 0.6618 - accuracy: 0.8576 - val_loss: 0.9686 - val_accuracy: 0.7790\n",
            "Epoch 6/9\n",
            "16/16 [==============================] - 0s 17ms/step - loss: 0.5317 - accuracy: 0.8875 - val_loss: 0.9210 - val_accuracy: 0.8020\n",
            "Epoch 7/9\n",
            "16/16 [==============================] - 0s 16ms/step - loss: 0.4324 - accuracy: 0.9077 - val_loss: 0.8894 - val_accuracy: 0.8120\n",
            "Epoch 8/9\n",
            "16/16 [==============================] - 0s 16ms/step - loss: 0.3465 - accuracy: 0.9243 - val_loss: 0.8739 - val_accuracy: 0.8080\n",
            "Epoch 9/9\n",
            "16/16 [==============================] - 0s 16ms/step - loss: 0.2901 - accuracy: 0.9367 - val_loss: 0.8797 - val_accuracy: 0.8150\n"
          ]
        }
      ]
    },
    {
      "cell_type": "code",
      "source": [
        "import matplotlib.pyplot as plt\n",
        "\n",
        "history_dict = history.history\n",
        "loss_values = history_dict['loss']\n",
        "val_loss_values = history_dict['val_loss']\n",
        "\n",
        "fig = plt.figure(figsize=(10, 10))\n",
        "epoch = range(1, len(loss_values) + 1)\n",
        "plt.plot(epoch, loss_values, 'o', label = 'training')\n",
        "plt.plot(epoch, val_loss_values, '--', label = 'validation')\n",
        "plt.legend()\n",
        "plt.show()"
      ],
      "metadata": {
        "colab": {
          "base_uri": "https://localhost:8080/",
          "height": 592
        },
        "id": "bRVSkoQ2Y0u3",
        "outputId": "114368ab-c43d-4628-afe4-b06251c3000b"
      },
      "execution_count": 23,
      "outputs": [
        {
          "output_type": "display_data",
          "data": {
            "text/plain": [
              "<Figure size 720x720 with 1 Axes>"
            ],
            "image/png": "[encoded data removed]"
          },
          "metadata": {
            "needs_background": "light"
          }
        }
      ]
    },
    {
      "cell_type": "code",
      "source": [
        "accuracy_values = history_dict['accuracy']\n",
        "val_accuracy_values = history_dict['val_accuracy']\n",
        "\n",
        "fig = plt.figure(figsize=(10, 10))\n",
        "epoch = range(1, len(loss_values) + 1)\n",
        "plt.plot(epoch, accuracy_values, 'o', label = 'training_accuracy')\n",
        "plt.plot(epoch, val_accuracy_values, '--', label = 'validation_accuracy')\n",
        "plt.legend()\n",
        "plt.show()"
      ],
      "metadata": {
        "colab": {
          "base_uri": "https://localhost:8080/",
          "height": 592
        },
        "id": "-THofJVhZion",
        "outputId": "79aa0c40-8a6d-415f-d3a8-6693a1bf8f50"
      },
      "execution_count": 24,
      "outputs": [
        {
          "output_type": "display_data",
          "data": {
            "text/plain": [
              "<Figure size 720x720 with 1 Axes>"
            ],
            "image/png": "[encoded data removed]"
          },
          "metadata": {
            "needs_background": "light"
          }
        }
      ]
    },
    {
      "cell_type": "code",
      "source": [
        "model.evaluate(x_test, y_test)"
      ],
      "metadata": {
        "colab": {
          "base_uri": "https://localhost:8080/"
        },
        "id": "ZEmaopv6aJhS",
        "outputId": "86dc98ce-7d2e-4cc4-c477-d8d7d276b281"
      },
      "execution_count": 25,
      "outputs": [
        {
          "output_type": "stream",
          "name": "stdout",
          "text": [
            "71/71 [==============================] - 0s 3ms/step - loss: 0.9945 - accuracy: 0.7832\n"
          ]
        },
        {
          "output_type": "execute_result",
          "data": {
            "text/plain": [
              "[0.9945283532142639, 0.7831701040267944]"
            ]
          },
          "metadata": {},
          "execution_count": 25
        }
      ]
    },
    {
      "cell_type": "code",
      "source": [
        "predictions = model.predict(x_test)"
      ],
      "metadata": {
        "colab": {
          "base_uri": "https://localhost:8080/"
        },
        "id": "cfy2xwUuaqFn",
        "outputId": "44413dee-1ece-4652-fc0e-149b79a2ac3a"
      },
      "execution_count": 26,
      "outputs": [
        {
          "output_type": "stream",
          "name": "stdout",
          "text": [
            "71/71 [==============================] - 0s 2ms/step\n"
          ]
        }
      ]
    },
    {
      "cell_type": "code",
      "source": [
        "model2 = models.Sequential()\n",
        "model2.add(layers.Dense(65, activation='relu', input_shape=(10_000,)))\n",
        "model2.add(layers.Dropout(0.75))\n",
        "model2.add(layers.Dense(65, activation='relu'))\n",
        "model2.add(layers.Dropout(0.25))\n",
        "model2.add(layers.Dense(46, activation='softmax'))\n",
        "\n",
        "model2.compile(\n",
        "    optimizer='rmsprop',\n",
        "    loss='categorical_crossentropy',\n",
        "    metrics=[\n",
        "        'accuracy'\n",
        "    ]  \n",
        ")\n",
        "\n",
        "history2 = model2.fit(\n",
        "    partial_x_train,\n",
        "    partial_y_train,\n",
        "    epochs=25,\n",
        "    batch_size=512,\n",
        "    validation_data=(x_val, y_val)\n",
        ")"
      ],
      "metadata": {
        "colab": {
          "base_uri": "https://localhost:8080/"
        },
        "id": "Yebz4lk_bE8v",
        "outputId": "529d8f3f-fab0-4d16-d138-c08a7912f734"
      },
      "execution_count": 47,
      "outputs": [
        {
          "output_type": "stream",
          "name": "stdout",
          "text": [
            "Epoch 1/25\n",
            "16/16 [==============================] - 1s 27ms/step - loss: 3.0731 - accuracy: 0.3470 - val_loss: 2.0953 - val_accuracy: 0.5560\n",
            "Epoch 2/25\n",
            "16/16 [==============================] - 0s 17ms/step - loss: 2.1059 - accuracy: 0.5232 - val_loss: 1.6642 - val_accuracy: 0.6230\n",
            "Epoch 3/25\n",
            "16/16 [==============================] - 0s 19ms/step - loss: 1.7880 - accuracy: 0.5723 - val_loss: 1.4915 - val_accuracy: 0.6560\n",
            "Epoch 4/25\n",
            "16/16 [==============================] - 0s 17ms/step - loss: 1.6453 - accuracy: 0.6060 - val_loss: 1.4028 - val_accuracy: 0.6950\n",
            "Epoch 5/25\n",
            "16/16 [==============================] - 0s 17ms/step - loss: 1.5179 - accuracy: 0.6315 - val_loss: 1.3320 - val_accuracy: 0.7010\n",
            "Epoch 6/25\n",
            "16/16 [==============================] - 0s 16ms/step - loss: 1.4470 - accuracy: 0.6520 - val_loss: 1.2792 - val_accuracy: 0.7080\n",
            "Epoch 7/25\n",
            "16/16 [==============================] - 0s 16ms/step - loss: 1.3834 - accuracy: 0.6637 - val_loss: 1.2389 - val_accuracy: 0.7130\n",
            "Epoch 8/25\n",
            "16/16 [==============================] - 0s 17ms/step - loss: 1.3225 - accuracy: 0.6698 - val_loss: 1.2006 - val_accuracy: 0.7140\n",
            "Epoch 9/25\n",
            "16/16 [==============================] - 0s 16ms/step - loss: 1.2682 - accuracy: 0.6849 - val_loss: 1.1776 - val_accuracy: 0.7200\n",
            "Epoch 10/25\n",
            "16/16 [==============================] - 0s 16ms/step - loss: 1.2308 - accuracy: 0.6954 - val_loss: 1.1571 - val_accuracy: 0.7330\n",
            "Epoch 11/25\n",
            "16/16 [==============================] - 0s 17ms/step - loss: 1.2039 - accuracy: 0.7016 - val_loss: 1.1320 - val_accuracy: 0.7450\n",
            "Epoch 12/25\n",
            "16/16 [==============================] - 0s 17ms/step - loss: 1.1636 - accuracy: 0.7086 - val_loss: 1.1158 - val_accuracy: 0.7520\n",
            "Epoch 13/25\n",
            "16/16 [==============================] - 0s 17ms/step - loss: 1.1113 - accuracy: 0.7215 - val_loss: 1.1007 - val_accuracy: 0.7590\n",
            "Epoch 14/25\n",
            "16/16 [==============================] - 0s 17ms/step - loss: 1.0949 - accuracy: 0.7191 - val_loss: 1.0946 - val_accuracy: 0.7620\n",
            "Epoch 15/25\n",
            "16/16 [==============================] - 0s 18ms/step - loss: 1.0481 - accuracy: 0.7344 - val_loss: 1.0793 - val_accuracy: 0.7680\n",
            "Epoch 16/25\n",
            "16/16 [==============================] - 0s 17ms/step - loss: 1.0336 - accuracy: 0.7364 - val_loss: 1.0757 - val_accuracy: 0.7650\n",
            "Epoch 17/25\n",
            "16/16 [==============================] - 0s 17ms/step - loss: 0.9939 - accuracy: 0.7402 - val_loss: 1.0738 - val_accuracy: 0.7640\n",
            "Epoch 18/25\n",
            "16/16 [==============================] - 0s 18ms/step - loss: 0.9905 - accuracy: 0.7420 - val_loss: 1.0688 - val_accuracy: 0.7650\n",
            "Epoch 19/25\n",
            "16/16 [==============================] - 0s 18ms/step - loss: 0.9522 - accuracy: 0.7541 - val_loss: 1.0539 - val_accuracy: 0.7710\n",
            "Epoch 20/25\n",
            "16/16 [==============================] - 0s 17ms/step - loss: 0.9328 - accuracy: 0.7546 - val_loss: 1.0550 - val_accuracy: 0.7710\n",
            "Epoch 21/25\n",
            "16/16 [==============================] - 0s 19ms/step - loss: 0.9250 - accuracy: 0.7598 - val_loss: 1.0407 - val_accuracy: 0.7760\n",
            "Epoch 22/25\n",
            "16/16 [==============================] - 0s 17ms/step - loss: 0.8913 - accuracy: 0.7586 - val_loss: 1.0430 - val_accuracy: 0.7750\n",
            "Epoch 23/25\n",
            "16/16 [==============================] - 0s 18ms/step - loss: 0.8831 - accuracy: 0.7657 - val_loss: 1.0415 - val_accuracy: 0.7790\n",
            "Epoch 24/25\n",
            "16/16 [==============================] - 0s 17ms/step - loss: 0.8630 - accuracy: 0.7717 - val_loss: 1.0387 - val_accuracy: 0.7800\n",
            "Epoch 25/25\n",
            "16/16 [==============================] - 0s 16ms/step - loss: 0.8500 - accuracy: 0.7697 - val_loss: 1.0577 - val_accuracy: 0.7800\n"
          ]
        }
      ]
    },
    {
      "cell_type": "code",
      "source": [
        "model2.evaluate(x_test, y_test)"
      ],
      "metadata": {
        "colab": {
          "base_uri": "https://localhost:8080/"
        },
        "id": "Rr16MJP9cFvp",
        "outputId": "21b7adf4-d864-4dcf-8b1c-86d668731c63"
      },
      "execution_count": 50,
      "outputs": [
        {
          "output_type": "stream",
          "name": "stdout",
          "text": [
            "71/71 [==============================] - 0s 3ms/step - loss: 1.1730 - accuracy: 0.7578\n"
          ]
        },
        {
          "output_type": "execute_result",
          "data": {
            "text/plain": [
              "[1.172961711883545, 0.7577916383743286]"
            ]
          },
          "metadata": {},
          "execution_count": 50
        }
      ]
    },
    {
      "cell_type": "code",
      "source": [
        "loss_values2 = history2.history['loss']\n",
        "val_loss_values2 = history2.history['val_loss']\n",
        "\n",
        "fig = plt.figure(figsize=(10, 10))\n",
        "epoch = range(1, len(loss_values2) + 1)\n",
        "plt.plot(epoch, loss_values2, 'o', label = 'training')\n",
        "plt.plot(epoch, val_loss_values2, '--', label = 'validation')\n",
        "plt.legend()\n",
        "plt.show()"
      ],
      "metadata": {
        "colab": {
          "base_uri": "https://localhost:8080/",
          "height": 592
        },
        "id": "XTygHvJfbWlZ",
        "outputId": "ebfa2b50-57a2-483b-8ce6-3d938ac3248c"
      },
      "execution_count": 52,
      "outputs": [
        {
          "output_type": "display_data",
          "data": {
            "text/plain": [
              "<Figure size 720x720 with 1 Axes>"
            ],
            "image/png": "[encoded data removed]"
          },
          "metadata": {
            "needs_background": "light"
          }
        }
      ]
    },
    {
      "cell_type": "code",
      "source": [
        "accuracy_values2 = history2.history['accuracy']\n",
        "val_accuracy_values2 = history2.history['val_accuracy']\n",
        "\n",
        "fig = plt.figure(figsize=(10, 10))\n",
        "epoch = range(1, len(loss_values2) + 1)\n",
        "plt.plot(epoch, accuracy_values2, 'o', label = 'training_accuracy')\n",
        "plt.plot(epoch, val_accuracy_values2, '--', label = 'validation_accuracy')\n",
        "plt.legend()\n",
        "plt.show()"
      ],
      "metadata": {
        "colab": {
          "base_uri": "https://localhost:8080/",
          "height": 594
        },
        "id": "YlV6GjWQb131",
        "outputId": "4188f55f-39d1-4d84-cbef-7752dd2b0e81"
      },
      "execution_count": 51,
      "outputs": [
        {
          "output_type": "display_data",
          "data": {
            "text/plain": [
              "<Figure size 720x720 with 1 Axes>"
            ],
            "image/png": "[encoded data removed]"
          },
          "metadata": {
            "needs_background": "light"
          }
        }
      ]
    }
  ]
}