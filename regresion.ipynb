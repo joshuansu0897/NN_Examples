{
  "nbformat": 4,
  "nbformat_minor": 0,
  "metadata": {
    "colab": {
      "provenance": [],
      "collapsed_sections": [],
      "authorship_tag": "ABX9TyN2vTYD8eJ5gDoqZj9Pf5K2",
      "include_colab_link": true
    },
    "kernelspec": {
      "name": "python3",
      "display_name": "Python 3"
    },
    "language_info": {
      "name": "python"
    },
    "accelerator": "GPU"
  },
  "cells": [
    {
      "cell_type": "markdown",
      "metadata": {
        "id": "view-in-github",
        "colab_type": "text"
      },
      "source": [
        "<a href=\"https://colab.research.google.com/github/joshuansu0897/NN_Examples/blob/main/regresion.ipynb\" target=\"_parent\"><img src=\"https://colab.research.google.com/assets/colab-badge.svg\" alt=\"Open In Colab\"/></a>"
      ]
    },
    {
      "cell_type": "code",
      "execution_count": 1,
      "metadata": {
        "id": "oB-fRrTwJFXK"
      },
      "outputs": [],
      "source": [
        "import pandas as pd\n",
        "import numpy as np\n",
        "from keras import models, layers, optimizers\n",
        "from keras.datasets import boston_housing"
      ]
    },
    {
      "cell_type": "markdown",
      "source": [
        "**Descargamos el data**"
      ],
      "metadata": {
        "id": "iOYHsGC5Jk-s"
      }
    },
    {
      "cell_type": "code",
      "source": [
        "(train_data, train_labels), (test_data, test_labels) = boston_housing.load_data()"
      ],
      "metadata": {
        "colab": {
          "base_uri": "https://localhost:8080/"
        },
        "id": "ACoQY70_JbJx",
        "outputId": "6478a345-b2e7-46b1-d09f-74412e59f04f"
      },
      "execution_count": 2,
      "outputs": [
        {
          "output_type": "stream",
          "name": "stdout",
          "text": [
            "Downloading data from https://storage.googleapis.com/tensorflow/tf-keras-datasets/boston_housing.npz\n",
            "57026/57026 [==============================] - 0s 0us/step\n"
          ]
        }
      ]
    },
    {
      "cell_type": "code",
      "source": [
        "train_data.shape"
      ],
      "metadata": {
        "colab": {
          "base_uri": "https://localhost:8080/"
        },
        "id": "uNyLs8hoJnPS",
        "outputId": "b4bed731-ee1e-4620-9965-cdedcf8986d6"
      },
      "execution_count": 3,
      "outputs": [
        {
          "output_type": "execute_result",
          "data": {
            "text/plain": [
              "(404, 13)"
            ]
          },
          "metadata": {},
          "execution_count": 3
        }
      ]
    },
    {
      "cell_type": "code",
      "source": [
        "train_data[0] # caracteristicas de la casa 0"
      ],
      "metadata": {
        "colab": {
          "base_uri": "https://localhost:8080/"
        },
        "id": "voZrVUAzJ946",
        "outputId": "03081cce-967a-4f47-ef8f-2311f202f5ce"
      },
      "execution_count": 4,
      "outputs": [
        {
          "output_type": "execute_result",
          "data": {
            "text/plain": [
              "array([  1.23247,   0.     ,   8.14   ,   0.     ,   0.538  ,   6.142  ,\n",
              "        91.7    ,   3.9769 ,   4.     , 307.     ,  21.     , 396.9    ,\n",
              "        18.72   ])"
            ]
          },
          "metadata": {},
          "execution_count": 4
        }
      ]
    },
    {
      "cell_type": "code",
      "source": [
        "train_labels[0] # precio de la casa 0"
      ],
      "metadata": {
        "colab": {
          "base_uri": "https://localhost:8080/"
        },
        "id": "YIqKDOtfKADg",
        "outputId": "2943bef7-a350-46a9-c3e3-7a4e004d3877"
      },
      "execution_count": 5,
      "outputs": [
        {
          "output_type": "execute_result",
          "data": {
            "text/plain": [
              "15.2"
            ]
          },
          "metadata": {},
          "execution_count": 5
        }
      ]
    },
    {
      "cell_type": "markdown",
      "source": [
        "**Vamos a normalizar los datos**"
      ],
      "metadata": {
        "id": "H2RvZ8YGKUSW"
      }
    },
    {
      "cell_type": "code",
      "source": [
        "# train data\n",
        "# media\n",
        "mean_train_data = train_data.mean(axis=0)\n",
        "train_data = train_data - mean_train_data\n",
        "\n",
        "# desviacion estandar\n",
        "std_train_data = train_data.std(axis=0)\n",
        "train_data = train_data / std_train_data\n",
        "\n",
        "# test data\n",
        "test_data = test_data - mean_train_data\n",
        "test_data = test_data / std_train_data"
      ],
      "metadata": {
        "id": "FRdeVZJhKXDL"
      },
      "execution_count": 12,
      "outputs": []
    },
    {
      "cell_type": "code",
      "source": [
        "train_data[0]"
      ],
      "metadata": {
        "colab": {
          "base_uri": "https://localhost:8080/"
        },
        "id": "b8MuXEfFKmWW",
        "outputId": "f9b9c18e-bcef-4252-dfee-582d68317b10"
      },
      "execution_count": 13,
      "outputs": [
        {
          "output_type": "execute_result",
          "data": {
            "text/plain": [
              "array([-0.27224633, -0.48361547, -0.43576161, -0.25683275, -0.1652266 ,\n",
              "       -0.1764426 ,  0.81306188,  0.1166983 , -0.62624905, -0.59517003,\n",
              "        1.14850044,  0.44807713,  0.8252202 ])"
            ]
          },
          "metadata": {},
          "execution_count": 13
        }
      ]
    },
    {
      "cell_type": "markdown",
      "source": [
        "**Ahora creamos el modelo**"
      ],
      "metadata": {
        "id": "Ngklto88Lmi9"
      }
    },
    {
      "cell_type": "code",
      "source": [
        "def build_model_regression(lr_variable, input_data):  \n",
        "  model = models.Sequential()\n",
        "  model.add(layers.Dense(64, activation='relu', input_shape=(input_data,)))\n",
        "  model.add(layers.Dense(64, activation='relu'))\n",
        "  model.add(layers.Dense(1)) # como es un numero continuo lo que necesitamos, es una funcion linear, por ende no necesitamos una capa de activacion\n",
        "\n",
        "  model.compile(\n",
        "      optimizer=optimizers.RMSprop(learning_rate = lr_variable),\n",
        "      loss='mse',\n",
        "      metrics=[\n",
        "          'mae'\n",
        "      ]\n",
        "  )\n",
        "\n",
        "  return model"
      ],
      "metadata": {
        "id": "lDjq0VMnLoOE"
      },
      "execution_count": 51,
      "outputs": []
    },
    {
      "cell_type": "markdown",
      "source": [
        "**Sigue iterar sobre nuestros (Fold)**"
      ],
      "metadata": {
        "id": "hjdjM3rRM8Q1"
      }
    },
    {
      "cell_type": "code",
      "source": [
        "iterations = 4\n",
        "num_samples = len(train_data) // iterations\n",
        "epoch = 100\n",
        "all_histories = []"
      ],
      "metadata": {
        "id": "lPD9c6CaOmfl"
      },
      "execution_count": 52,
      "outputs": []
    },
    {
      "cell_type": "code",
      "source": [
        "for i in range(iterations):\n",
        "  print('Fold:', i)\n",
        "  val_data = train_data[i * num_samples : (i + 1) * num_samples]\n",
        "  val_targets = train_labels[i * num_samples : (i + 1) * num_samples]\n",
        "\n",
        "  partial_train_data = np.concatenate([\n",
        "      train_data[:i * num_samples],\n",
        "      train_data[(i + 1) * num_samples:]\n",
        "  ], axis=0)\n",
        "\n",
        "  partial_train_targets = np.concatenate([\n",
        "      train_labels[:i * num_samples],\n",
        "      train_labels[(i + 1) * num_samples:]\n",
        "  ], axis=0)\n",
        "\n",
        "  model = build_model_regression(0.001, 13)\n",
        "\n",
        "  history = model.fit(\n",
        "      partial_train_data,\n",
        "      partial_train_targets,\n",
        "      epochs=epoch,\n",
        "      batch_size=16,\n",
        "      validation_data=(val_data, val_targets),\n",
        "      verbose=0\n",
        "  )\n",
        "\n",
        "  all_histories.append(history.history['val_mae'])"
      ],
      "metadata": {
        "colab": {
          "base_uri": "https://localhost:8080/"
        },
        "id": "oVNpnWhqPgzG",
        "outputId": "e858d084-1940-4760-86ae-c6003334761d"
      },
      "execution_count": 53,
      "outputs": [
        {
          "output_type": "stream",
          "name": "stdout",
          "text": [
            "Fold: 0\n",
            "Fold: 1\n",
            "Fold: 2\n",
            "Fold: 3\n"
          ]
        }
      ]
    },
    {
      "cell_type": "code",
      "source": [
        "all_mea_avg = pd.DataFrame(all_histories).mean(axis=0)"
      ],
      "metadata": {
        "id": "gMX7KvIhSZbu"
      },
      "execution_count": 54,
      "outputs": []
    },
    {
      "cell_type": "code",
      "source": [
        "all_mea_avg"
      ],
      "metadata": {
        "colab": {
          "base_uri": "https://localhost:8080/"
        },
        "id": "ekEE7COXTHQP",
        "outputId": "33a8a7ba-9297-4481-c9dd-df2e35aa16e9"
      },
      "execution_count": 55,
      "outputs": [
        {
          "output_type": "execute_result",
          "data": {
            "text/plain": [
              "0     19.395427\n",
              "1     15.849135\n",
              "2     11.552610\n",
              "3      7.713289\n",
              "4      5.542169\n",
              "        ...    \n",
              "95     2.384604\n",
              "96     2.279402\n",
              "97     2.357720\n",
              "98     2.301739\n",
              "99     2.314198\n",
              "Length: 100, dtype: float64"
            ]
          },
          "metadata": {},
          "execution_count": 55
        }
      ]
    },
    {
      "cell_type": "code",
      "source": [
        "import matplotlib.pyplot as plt\n",
        "\n",
        "fig = plt.figure(figsize=(10, 10))\n",
        "plt.plot(range(1, len(all_mea_avg) + 1), all_mea_avg)\n",
        "plt.show()"
      ],
      "metadata": {
        "colab": {
          "base_uri": "https://localhost:8080/",
          "height": 592
        },
        "id": "B12moskQZRGK",
        "outputId": "955f4517-b20d-4efd-f03a-bd80e4b1b037"
      },
      "execution_count": 56,
      "outputs": [
        {
          "output_type": "display_data",
          "data": {
            "text/plain": [
              "<Figure size 720x720 with 1 Axes>"
            ],
            "image/png": "[encoded data removed]"
          },
          "metadata": {
            "needs_background": "light"
          }
        }
      ]
    },
    {
      "cell_type": "code",
      "source": [
        "import matplotlib.pyplot as plt\n",
        "\n",
        "fig = plt.figure(figsize=(10, 10))\n",
        "plt.plot(range(1, len(all_mea_avg[15:]) + 1), all_mea_avg[15:])\n",
        "plt.show()"
      ],
      "metadata": {
        "colab": {
          "base_uri": "https://localhost:8080/",
          "height": 592
        },
        "id": "j7l2o0hmZ0mE",
        "outputId": "15634fc7-ef3f-44bc-ca34-f849d265203d"
      },
      "execution_count": 57,
      "outputs": [
        {
          "output_type": "display_data",
          "data": {
            "text/plain": [
              "<Figure size 720x720 with 1 Axes>"
            ],
            "image/png": "[encoded data removed]"
          },
          "metadata": {
            "needs_background": "light"
          }
        }
      ]
    },
    {
      "cell_type": "code",
      "source": [
        "model.evaluate(test_data, test_labels)"
      ],
      "metadata": {
        "colab": {
          "base_uri": "https://localhost:8080/"
        },
        "id": "Pfvn6erFaAmq",
        "outputId": "13eeda07-60b9-4ff7-ef7d-cf815400a125"
      },
      "execution_count": 58,
      "outputs": [
        {
          "output_type": "stream",
          "name": "stdout",
          "text": [
            "4/4 [==============================] - 0s 3ms/step - loss: 17.5879 - mae: 2.6451\n"
          ]
        },
        {
          "output_type": "execute_result",
          "data": {
            "text/plain": [
              "[17.58794403076172, 2.645120143890381]"
            ]
          },
          "metadata": {},
          "execution_count": 58
        }
      ]
    }
  ]
}